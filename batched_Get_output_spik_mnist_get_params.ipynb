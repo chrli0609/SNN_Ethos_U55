{
  "cells": [
    {
      "cell_type": "markdown",
      "metadata": {
        "id": "view-in-github",
        "colab_type": "text"
      },
      "source": [
        "<a href=\"https://colab.research.google.com/github/chrli0609/SNN_Ethos_U55/blob/main/batched_Get_output_spik_mnist_get_params.ipynb\" target=\"_parent\"><img src=\"https://colab.research.google.com/assets/colab-badge.svg\" alt=\"Open In Colab\"/></a>"
      ]
    },
    {
      "cell_type": "markdown",
      "metadata": {
        "collapsed": false,
        "id": "uSGZ6cdmpknm"
      },
      "source": [
        "[<img src='https://github.com/jeshraghian/snntorch/blob/master/docs/_static/img/snntorch_alpha_w.png?raw=true' width=\"400\">](https://github.com/jeshraghian/snntorch/)\n",
        "\n",
        "\n",
        "# snnTorch - Training Spiking Neural Networks with snnTorch\n",
        "## Tutorial 5\n",
        "### By Jason K. Eshraghian (www.ncg.ucsc.edu)\n",
        "\n",
        "<a href=\"https://colab.research.google.com/github/jeshraghian/snntorch/blob/master/examples/tutorial_6_CNN.ipynb\">\n",
        "  <img src=\"https://colab.research.google.com/assets/colab-badge.svg\" alt=\"Open In Colab\"/>\n",
        "</a>\n",
        "\n",
        "\n",
        "[<img src='https://github.com/jeshraghian/snntorch/blob/master/docs/_static/img/GitHub-Mark-Light-120px-plus.png?raw=true' width=\"28\">](https://github.com/jeshraghian/snntorch/) [<img src='https://github.com/jeshraghian/snntorch/blob/master/docs/_static/img/GitHub_Logo_White.png?raw=true' width=\"80\">](https://github.com/jeshraghian/snntorch/)"
      ]
    },
    {
      "cell_type": "markdown",
      "metadata": {
        "id": "rugeYYiqsrlc"
      },
      "source": [
        "The snnTorch tutorial series is based on the following paper. If you find these resources or code useful in your work, please consider citing the following source:\n",
        "\n",
        "> <cite> [Jason K. Eshraghian, Max Ward, Emre Neftci, Xinxin Wang, Gregor Lenz, Girish Dwivedi, Mohammed Bennamoun, Doo Seok Jeong, and Wei D. Lu. \"Training Spiking Neural Networks Using Lessons From Deep Learning\". Proceedings of the IEEE, 111(9) September 2023.](https://ieeexplore.ieee.org/abstract/document/10242251) </cite>\n",
        "\n"
      ]
    },
    {
      "cell_type": "markdown",
      "metadata": {
        "id": "Ymi3sqJg28OQ"
      },
      "source": [
        "# Introduction\n",
        "In this tutorial, you will:\n",
        "* Learn how spiking neurons are implemented as a recurrent network\n",
        "* Understand backpropagation through time, and the associated challenges in SNNs such as the non-differentiability of spikes\n",
        "* Train a fully-connected network on the static MNIST dataset\n",
        "\n",
        "<!-- * Implement various backprop strategies:\n",
        "  * Backpropagation Through Time\n",
        "  * Truncated-Backpropagation Through Time\n",
        "  * Real-Time Recurrent Learning -->\n",
        "\n",
        ">Part of this tutorial was inspired by Friedemann Zenke's extensive work on SNNs. Check out his repo on surrogate gradients [here](https://github.com/fzenke/spytorch), and a favourite paper of mine: E. O. Neftci, H. Mostafa, F. Zenke, [Surrogate Gradient Learning in Spiking Neural Networks: Bringing the Power of Gradient-based optimization to spiking neural networks.](https://ieeexplore.ieee.org/document/8891809) IEEE Signal Processing Magazine 36, 51–63.\n",
        "\n",
        "At the end of the tutorial, a basic supervised learning algorithm will be implemented. We will use the original static MNIST dataset and train a multi-layer fully-connected spiking neural network using gradient descent to perform image classification.\n",
        "\n",
        "If running in Google Colab:\n",
        "* You may connect to GPU by checking `Runtime` > `Change runtime type` > `Hardware accelerator: GPU`\n",
        "* Next, install the latest PyPi distribution of snnTorch by clicking into the following cell and pressing `Shift+Enter`."
      ]
    },
    {
      "cell_type": "code",
      "execution_count": null,
      "metadata": {
        "colab": {
          "base_uri": "https://localhost:8080/"
        },
        "id": "5tn_wUlopkon",
        "outputId": "61d4c34a-2793-4ebf-c273-0aff3995a082"
      },
      "outputs": [
        {
          "output_type": "stream",
          "name": "stdout",
          "text": [
            "Requirement already satisfied: snntorch in /usr/local/lib/python3.11/dist-packages (0.9.4)\n"
          ]
        }
      ],
      "source": [
        "!pip install snntorch"
      ]
    },
    {
      "cell_type": "code",
      "execution_count": null,
      "metadata": {
        "id": "QXZ6Tuqc9Q-l"
      },
      "outputs": [],
      "source": [
        "# imports\n",
        "import snntorch as snn\n",
        "from snntorch import spikeplot as splt\n",
        "from snntorch import spikegen\n",
        "\n",
        "import torch\n",
        "import torch.nn as nn\n",
        "from torch.utils.data import DataLoader\n",
        "from torchvision import datasets, transforms\n",
        "\n",
        "import matplotlib.pyplot as plt\n",
        "import numpy as np\n",
        "import itertools"
      ]
    },
    {
      "cell_type": "markdown",
      "metadata": {
        "id": "gt2xMbLY9dVE"
      },
      "source": [
        "# 1. A Recurrent Representation of SNNs"
      ]
    },
    {
      "cell_type": "markdown",
      "metadata": {
        "id": "v7haBG7nA_TC"
      },
      "source": [
        "In Tutorial 3, we derived a recursive representation of a leaky integrate-and-fire (LIF) neuron:\n",
        "\n",
        "$$U[t+1] = \\underbrace{\\beta U[t]}_\\text{decay} + \\underbrace{WX[t+1]}_\\text{input} - \\underbrace{R[t]}_\\text{reset} \\tag{1}$$\n",
        "\n",
        "where the input synaptic current is interpreted as $I_{\\rm in}[t] = WX[t]$, and $X[t]$ may be some arbitrary input of spikes, a step/time-varying voltage, or unweighted step/time-varying current. Spiking is represented with the following equation, where if the membrane potential exceeds the threshold, a spike is emitted:\n",
        "\n",
        "$$S[t] = \\begin{cases} 1, &\\text{if}~U[t] > U_{\\rm thr} \\\\\n",
        "0, &\\text{otherwise}\\end{cases} \\tag{2}$$\n",
        "\n",
        "This formulation of a spiking neuron in a discrete, recursive form is almost perfectly poised to take advantage of the developments in training recurrent neural networks (RNNs) and sequence-based models. This is illustrated using an *implicit* recurrent connection for the decay of the membrane potential, and is distinguished from *explicit* recurrence where the output spike $S_{\\rm out}$ is fed back to the input. In the figure below, the connection weighted by $-U_{\\rm thr}$ represents the reset mechanism $R[t]$.\n",
        "\n",
        "\n",
        "<center>\n",
        "<img src='https://github.com/jeshraghian/snntorch/blob/master/docs/_static/img/examples/tutorial5/unrolled_2.png?raw=true' width=\"800\">\n",
        "</center>\n",
        "\n",
        "The benefit of an unrolled graph is that it provides an explicit description of how computations are performed. The process of unfolding illustrates the flow of information forward in time (from left to right) to compute outputs and losses, and backward in time to compute gradients. The more time steps that are simulated, the deeper the graph becomes.\n",
        "\n",
        "Conventional RNNs treat $\\beta$ as a learnable parameter. This is also possible for SNNs, though by default, they are treated as hyperparameters. This replaces the vanishing and exploding gradient problems with a hyperparameter search. A future tutorial will describe how to make $\\beta$ a learnable parameter."
      ]
    },
    {
      "cell_type": "markdown",
      "metadata": {
        "id": "Wgzf83HE2BeB"
      },
      "source": [
        "# 2. The Non-Differentiability of Spikes\n",
        "## 2.1 Training Using the Backprop Algorithm\n",
        "\n",
        "An alternative way to represent the relationship between $S$ and $U$ in $(2)$ is:\n",
        "\n",
        "$$S[t] = \\Theta(U[t] - U_{\\rm thr}) \\tag{3}$$\n",
        "\n",
        "where $\\Theta(\\cdot)$ is the Heaviside step function:\n",
        "\n",
        "<center>\n",
        "<img src='https://github.com/jeshraghian/snntorch/blob/master/docs/_static/img/examples/tutorial3/3_2_spike_descrip.png?raw=true' width=\"600\">\n",
        "</center>\n",
        "\n",
        "Training a network in this form poses some serious challenges. Consider a single, isolated time step of the computational graph from the previous figure titled *\"Recurrent representation of spiking neurons\"*, as shown in the *forward pass* below:\n",
        "\n",
        "<center>\n",
        "<img src='https://github.com/jeshraghian/snntorch/blob/master/docs/_static/img/examples/tutorial5/non-diff.png?raw=true' width=\"400\">\n",
        "</center>\n",
        "\n",
        "The goal is to train the network using the gradient of the loss with respect to the weights, such that the weights are updated to minimize the loss. The backpropagation algorithm achieves this using the chain rule:\n",
        "\n",
        "$$\\frac{\\partial \\mathcal{L}}{\\partial W} =\n",
        "\\frac{\\partial \\mathcal{L}}{\\partial S}\n",
        "\\underbrace{\\frac{\\partial S}{\\partial U}}_{\\{0, \\infty\\}}\n",
        "\\frac{\\partial U}{\\partial I}\\\n",
        "\\frac{\\partial I}{\\partial W}\\ \\tag{4}$$\n",
        "\n",
        "From $(1)$, $\\partial I/\\partial W=X$, and $\\partial U/\\partial I=1$. While we have not yet defined a loss function, we can assume $\\partial \\mathcal{L}/\\partial S$ has an analytical solution, in a similar form to the cross-entropy or mean-square error loss (more on that shortly).\n",
        "\n",
        "However, the term that we are going to grapple with is $\\partial S/\\partial U$. The derivative of the Heaviside step function from $(3)$ is the Dirac Delta function, which evaluates to 0 everywhere, except at the threshold $U_{\\rm thr} = \\theta$, where it tends to infinity. This means the gradient will almost always be nulled to zero (or saturated if $U$ sits precisely at the threshold), and no learning can take place. This is known as the **dead neuron problem**."
      ]
    },
    {
      "cell_type": "markdown",
      "metadata": {
        "id": "mVrM7nLOMvgx"
      },
      "source": [
        "## 2.2 Overcoming the Dead Neuron Problem\n",
        "\n",
        "The most common way to address the dead neuron problem is to keep the Heaviside function as it is during the forward pass, but swap the derivative term $\\partial S/\\partial U$ for something that does not kill the learning process during the backward pass, which will be denoted $\\partial \\tilde{S}/\\partial U$. This might sound odd, but it turns out that neural networks are quite robust to such approximations. This is commonly known as the *surrogate gradient* approach.\n",
        "\n",
        "A variety of options exist to using surrogate gradients, and we will dive into more detail on these methods in [Tutorial 6](https://snntorch.readthedocs.io/en/latest/tutorials/index.html). The default method in snnTorch (as of v0.6.0) is to smooth the Heaviside function with the arctangent function. The backward-pass derivative used is:\n",
        "\n",
        "$$ \\frac{\\partial \\tilde{S}}{\\partial U} \\leftarrow \\frac{1}{\\pi}\\frac{1}{(1+[U\\pi]^2)} \\tag{5}$$\n",
        "\n",
        "where the left arrow denotes substitution.\n",
        "\n",
        "The same neuron model described in  $(1)-(2)$ (a.k.a., `snn.Leaky` neuron from Tutorial 3) is implemented in PyTorch below. Don't worry if you don't understand this. This will be condensed into one line of code using snnTorch in a moment:"
      ]
    },
    {
      "cell_type": "code",
      "execution_count": null,
      "metadata": {
        "id": "mfJUm-6T8aG2"
      },
      "outputs": [],
      "source": [
        "# Leaky neuron model, overriding the backward pass with a custom function\n",
        "class LeakySurrogate(nn.Module):\n",
        "  def __init__(self, beta, threshold=1.0):\n",
        "      super(LeakySurrogate, self).__init__()\n",
        "\n",
        "      # initialize decay rate beta and threshold\n",
        "      self.beta = beta\n",
        "      self.threshold = threshold\n",
        "      self.spike_gradient = self.ATan.apply\n",
        "\n",
        "  # the forward function is called each time we call Leaky\n",
        "  def forward(self, input_, mem):\n",
        "    spk = self.spike_gradient((mem-self.threshold))  # call the Heaviside function\n",
        "    reset = (self.beta * spk * self.threshold).detach() # remove reset from computational graph\n",
        "    mem = self.beta * mem + input_ - reset # Eq (1)\n",
        "    return spk, mem\n",
        "\n",
        "  # Forward pass: Heaviside function\n",
        "  # Backward pass: Override Dirac Delta with the ArcTan function\n",
        "  @staticmethod\n",
        "  class ATan(torch.autograd.Function):\n",
        "      @staticmethod\n",
        "      def forward(ctx, mem):\n",
        "          spk = (mem > 0).float() # Heaviside on the forward pass: Eq(2)\n",
        "          ctx.save_for_backward(mem)  # store the membrane for use in the backward pass\n",
        "          return spk\n",
        "\n",
        "      @staticmethod\n",
        "      def backward(ctx, grad_output):\n",
        "          (mem,) = ctx.saved_tensors  # retrieve the membrane potential\n",
        "          grad = 1 / (1 + (np.pi * mem).pow_(2)) * grad_output # Eqn 5\n",
        "          return grad"
      ]
    },
    {
      "cell_type": "markdown",
      "metadata": {
        "id": "1zkc1Mmp97OX"
      },
      "source": [
        "Note that the reset mechanism is detached from the computational graph, as the surrogate gradient should only be applied to $\\partial S/\\partial U$, and not $\\partial R/\\partial U$.\n",
        "\n",
        "The above neuron is instantiated using:"
      ]
    },
    {
      "cell_type": "code",
      "execution_count": null,
      "metadata": {
        "id": "EV3lU6soOnW6"
      },
      "outputs": [],
      "source": [
        "lif1 = LeakySurrogate(beta=0.9)"
      ]
    },
    {
      "cell_type": "markdown",
      "metadata": {
        "id": "StklvL_gPns1"
      },
      "source": [
        "This neuron can be simulated using a for-loop, just as in previous tutorials, while PyTorch's automatic differentation (autodiff) mechanism keeps track of the gradient in the background.\n",
        "\n",
        "Alternatively, the same thing can be accomplished by calling the `snn.Leaky` neuron.\n",
        "In fact, every time you call any neuron model from snnTorch, the *ATan* surrogate gradient is applied to it by default:"
      ]
    },
    {
      "cell_type": "code",
      "execution_count": null,
      "metadata": {
        "id": "8Wa7N31mP9Va"
      },
      "outputs": [],
      "source": [
        "lif1 = snn.Leaky(beta=0.9)"
      ]
    },
    {
      "cell_type": "markdown",
      "metadata": {
        "id": "9EF70Xi1RX6w"
      },
      "source": [
        "If you would like to explore how this neuron behaves, then refer to [Tutorial 3](https://snntorch.readthedocs.io/en/latest/tutorials/index.html)."
      ]
    },
    {
      "cell_type": "markdown",
      "metadata": {
        "id": "cxl1UYSCRzzl"
      },
      "source": [
        "#3. Backprop Through Time\n",
        "Equation $(4)$ only calculates the gradient for one single time step (referred to as the *immediate influence* in the figure below), but the backpropagation through time (BPTT) algorithm calculates the gradient from the loss to *all* descendants and sums them together.\n",
        "\n",
        "The weight $W$ is applied at every time step, and so imagine a loss is also calculated at every time step. The influence of the weight on present and historical losses must be summed together to define the global gradient:\n",
        "\n",
        "$$\\frac{\\partial \\mathcal{L}}{\\partial W}=\\sum_t \\frac{\\partial\\mathcal{L}[t]}{\\partial W} =\n",
        "\\sum_t \\sum_{s\\leq t} \\frac{\\partial\\mathcal{L}[t]}{\\partial W[s]}\\frac{\\partial W[s]}{\\partial W} \\tag{5} $$\n",
        "\n",
        "The point of $(5)$ is to ensure causality: by constraining $s\\leq t$, we only account for the contribution of immediate and prior influences of $W$ on the loss. A recurrent system constrains the weight to be shared across all steps: $W[0]=W[1] =~... ~ = W$. Therefore, a change in $W[s]$ will have the same effect on all $W$, which implies that $\\partial W[s]/\\partial W=1$:\n",
        "\n",
        "$$\\frac{\\partial \\mathcal{L}}{\\partial W}=\n",
        "\\sum_t \\sum_{s\\leq t} \\frac{\\partial\\mathcal{L}[t]}{\\partial W[s]} \\tag{6} $$\n",
        "\n",
        "As an example, isolate the prior influence due to $s = t-1$ *only*; this means the backward pass must track back in time by one step. The influence of $W[t-1]$ on the loss can be written as:\n",
        "\n",
        "$$\\frac{\\partial \\mathcal{L}[t]}{\\partial W[t-1]} =\n",
        "\\frac{\\partial \\mathcal{L}[t]}{\\partial S[t]}\n",
        "\\underbrace{\\frac{\\partial \\tilde{S}[t]}{\\partial U[t]}}_{Eq.~(5)}\n",
        "\\underbrace{\\frac{\\partial U[t]}{\\partial U[t-1]}}_\\beta\n",
        "\\underbrace{\\frac{\\partial U[t-1]}{\\partial I[t-1]}}_1\n",
        "\\underbrace{\\frac{\\partial I[t-1]}{\\partial W[t-1]}}_{X[t-1]} \\tag{7}$$\n",
        "\n",
        "We have already dealt with all of these terms from $(4)$, except for $\\partial U[t]/\\partial U[t-1]$. From $(1)$, this temporal derivative term simply evaluates to $\\beta$. So if we really wanted to, we now know enough to painstakingly calculate the derivative of every weight at every time step by hand, and it'd look something like this for a single neuron:\n",
        "\n",
        "<center>\n",
        "<img src='https://github.com/jeshraghian/snntorch/blob/master/docs/_static/img/examples/tutorial5/bptt.png?raw=true' width=\"600\">\n",
        "</center>\n",
        "\n",
        "But thankfully, PyTorch's autodiff takes care of that in the background for us.  \n",
        "\n",
        "*Note: The reset mechanism has been omitted from the above figure. In snnTorch, reset is included in the forward-pass, but detached from the backward pass.*\n"
      ]
    },
    {
      "cell_type": "markdown",
      "metadata": {
        "id": "c_42-CbsZ1FM"
      },
      "source": [
        "# 4. Setting up the Loss / Output Decoding\n",
        "In a conventional, non-spiking neural network, a supervised, multi-class classification problem takes the neuron with the highest activation and treats that as the predicted class.\n",
        "\n",
        "In a spiking neural net, there are several options to interpreting the output spikes. The most common approaches are:\n",
        "* **Rate coding:** Take the neuron with the highest firing rate (or spike count) as the predicted class\n",
        "* **Latency coding:** Take the neuron that fires *first* as the predicted class\n",
        "\n",
        "This might feel familiar to [Tutorial 1 on neural encoding](https://snntorch.readthedocs.io/en/latest/tutorials/index.html). The difference is that, here, we are interpreting (decoding) the output spikes, rather than encoding/converting raw input data into spikes.\n",
        "\n",
        "Let's focus on a rate code. When input data is passed to the network, we want the correct neuron class to emit the most spikes over the course of the simulation run. This then corresponds to the highest average firing frequency. One way to achieve this is to increase the membrane potential of the correct class to $U>U_{\\rm thr}$, and that of incorrect classes to $U<U_{\\rm thr}$. Applying the target to $U$ serves as a proxy for modulating spiking behavior from $S$.\n",
        "\n",
        "This can be implemented by taking the softmax of the membrane potential for output neurons, where $C$ is the number of output classes:\n",
        "\n",
        "$$p_i[t] = \\frac{e^{U_i[t]}}{\\sum_{j=0}^{C}e^{U_j[t]}} \\tag{8}$$\n",
        "\n",
        "The cross-entropy between $p_i$ and the target $y_i \\in \\{0,1\\}^C$, which is a one-hot target vector, is obtained using:\n",
        "\n",
        "$$\\mathcal{L}_{CE}[t] = -\\sum_{i=0}^Cy_i{\\rm log}(p_i[t]) \\tag{9}$$\n",
        "\n",
        "The practical effect is that the membrane potential of the correct class is encouraged to increase while those of incorrect classes are reduced. In effect, this means the correct class is encouraged to fire at all time steps, while incorrect classes are suppressed at all steps. This may not be the most efficient implementation of an SNN, but it is among the simplest.\n",
        "\n",
        "This target is applied at every time step of the simulation, thus also generating a loss at every step. These losses are then summed together at the end of the simulation:\n",
        "\n",
        "$$\\mathcal{L}_{CE} = \\sum_t\\mathcal{L}_{CE}[t] \\tag{10}$$\n",
        "\n",
        "This is just one of many possible ways to apply a loss function to a spiking neural network. A variety of approaches are available to use in snnTorch (in the module `snn.functional`), and will be the subject of a future tutorial.\n",
        "\n",
        "With all of the background theory having been taken care of, let’s finally dive into\n",
        "training a fully-connected spiking neural net."
      ]
    },
    {
      "cell_type": "markdown",
      "metadata": {
        "id": "zqJdfllYbc16"
      },
      "source": [
        "# 5. Setting up the Static MNIST Dataset"
      ]
    },
    {
      "cell_type": "code",
      "execution_count": null,
      "metadata": {
        "id": "lI0GbgLgpkos"
      },
      "outputs": [],
      "source": [
        "# dataloader arguments\n",
        "batch_size = 128\n",
        "data_path='/tmp/data/mnist'\n",
        "\n",
        "dtype = torch.float\n",
        "device = torch.device(\"cuda\") if torch.cuda.is_available() else torch.device(\"cpu\")\n",
        "\n",
        "\n",
        "import random\n",
        "SEED = 42\n",
        "torch.manual_seed(SEED)\n",
        "np.random.seed(SEED)\n",
        "random.seed(SEED)"
      ]
    },
    {
      "cell_type": "code",
      "execution_count": null,
      "metadata": {
        "id": "2fhRixcspkot"
      },
      "outputs": [],
      "source": [
        "# Define a transform\n",
        "transform = transforms.Compose([\n",
        "            transforms.Resize((28, 28)),\n",
        "            transforms.Grayscale(),\n",
        "            transforms.ToTensor(),\n",
        "            transforms.Normalize((0,), (1,))])\n",
        "\n",
        "mnist_train = datasets.MNIST(data_path, train=True, download=True, transform=transform)\n",
        "mnist_test = datasets.MNIST(data_path, train=False, download=True, transform=transform)"
      ]
    },
    {
      "cell_type": "markdown",
      "metadata": {
        "id": "RAM_dP887uTq"
      },
      "source": [
        "If the above code blocks throws an error, e.g. the MNIST servers are down, then uncomment the following code instead."
      ]
    },
    {
      "cell_type": "code",
      "execution_count": null,
      "metadata": {
        "id": "4jyJVqUNdXDo"
      },
      "outputs": [],
      "source": [
        "# # temporary dataloader if MNIST service is unavailable\n",
        "# !wget www.di.ens.fr/~lelarge/MNIST.tar.gz\n",
        "# !tar -zxvf MNIST.tar.gz\n",
        "\n",
        "# mnist_train = datasets.MNIST(root = './', train=True, download=True, transform=transform)\n",
        "# mnist_test = datasets.MNIST(root = './', train=False, download=True, transform=transform)"
      ]
    },
    {
      "cell_type": "code",
      "execution_count": null,
      "metadata": {
        "id": "aEtCbO6upkou"
      },
      "outputs": [],
      "source": [
        "# Create DataLoaders\n",
        "train_loader = DataLoader(mnist_train, batch_size=batch_size, shuffle=True, drop_last=True)\n",
        "test_loader = DataLoader(mnist_test, batch_size=batch_size, shuffle=True, drop_last=True)"
      ]
    },
    {
      "cell_type": "markdown",
      "metadata": {
        "id": "GhFyzySNeT_e"
      },
      "source": [
        "# 6. Define the Network"
      ]
    },
    {
      "cell_type": "code",
      "execution_count": null,
      "metadata": {
        "id": "Lud3kywn55fj"
      },
      "outputs": [],
      "source": [
        "# Network Architecture\n",
        "num_inputs = 28*28\n",
        "num_hidden = 1000\n",
        "num_outputs = 10\n",
        "\n",
        "# Temporal Dynamics\n",
        "num_steps = 25\n",
        "beta = 0.95"
      ]
    },
    {
      "cell_type": "code",
      "execution_count": null,
      "metadata": {
        "id": "-uquHLLmpkox"
      },
      "outputs": [],
      "source": [
        "# Define Network\n",
        "class Net(nn.Module):\n",
        "    def __init__(self):\n",
        "        super().__init__()\n",
        "\n",
        "        # Initialize layers\n",
        "        self.fc1 = nn.Linear(num_inputs, num_hidden)\n",
        "        self.lif1 = snn.Leaky(beta=beta)\n",
        "        self.fc2 = nn.Linear(num_hidden, num_outputs)\n",
        "        self.lif2 = snn.Leaky(beta=beta)\n",
        "\n",
        "    def forward(self, x):\n",
        "\n",
        "        # Initialize hidden states at t=0\n",
        "        mem1 = self.lif1.init_leaky()\n",
        "        mem2 = self.lif2.init_leaky()\n",
        "\n",
        "        # Record the final layer\n",
        "        spk2_rec = []\n",
        "        mem2_rec = []\n",
        "\n",
        "        for step in range(num_steps):\n",
        "            cur1 = self.fc1(x)\n",
        "            spk1, mem1 = self.lif1(cur1, mem1)\n",
        "            cur2 = self.fc2(spk1)\n",
        "            spk2, mem2 = self.lif2(cur2, mem2)\n",
        "            spk2_rec.append(spk2)\n",
        "            mem2_rec.append(mem2)\n",
        "\n",
        "        return torch.stack(spk2_rec, dim=0), torch.stack(mem2_rec, dim=0)\n",
        "\n",
        "# Load the network onto CUDA if available\n",
        "net = Net().to(device)"
      ]
    },
    {
      "cell_type": "markdown",
      "metadata": {
        "id": "Y0fHcAKfrav6"
      },
      "source": [
        "The code in the `forward()` function will only be called once the input argument `x` is explicitly passed into `net`.\n",
        "\n",
        "* `fc1` applies a linear transformation to all input pixels from the MNIST dataset;\n",
        "* `lif1` integrates the weighted input over time, emitting a spike if the threshold condition is met;\n",
        "* `fc2` applies a linear transformation to the output spikes of `lif1`;\n",
        "* `lif2` is another spiking neuron layer, integrating the weighted spikes over time."
      ]
    },
    {
      "cell_type": "markdown",
      "metadata": {
        "id": "6a7MdORCtIx4"
      },
      "source": [
        "# 7. Training the SNN"
      ]
    },
    {
      "cell_type": "markdown",
      "metadata": {
        "id": "6D-fhT3Q7nXM"
      },
      "source": [
        "## 7.1 Accuracy Metric\n",
        "Below is a function that takes a batch of data, counts up all the spikes from each neuron (i.e., a rate code over the simulation time), and compares the index of the highest count with the actual target. If they match, then the network correctly predicted the target."
      ]
    },
    {
      "cell_type": "code",
      "execution_count": null,
      "metadata": {
        "id": "-IxcnBAxpkoy"
      },
      "outputs": [],
      "source": [
        "# pass data into the network, sum the spikes over time\n",
        "# and compare the neuron with the highest number of spikes\n",
        "# with the target\n",
        "\n",
        "def print_batch_accuracy(data, targets, train=False):\n",
        "    output, _ = net(data.view(batch_size, -1))\n",
        "    _, idx = output.sum(dim=0).max(1)\n",
        "    acc = np.mean((targets == idx).detach().cpu().numpy())\n",
        "\n",
        "    if train:\n",
        "        print(f\"Train set accuracy for a single minibatch: {acc*100:.2f}%\")\n",
        "    else:\n",
        "        print(f\"Test set accuracy for a single minibatch: {acc*100:.2f}%\")\n",
        "\n",
        "def train_printer(\n",
        "    data, targets, epoch,\n",
        "    counter, iter_counter,\n",
        "        loss_hist, test_loss_hist, test_data, test_targets):\n",
        "    print(f\"Epoch {epoch}, Iteration {iter_counter}\")\n",
        "    print(f\"Train Set Loss: {loss_hist[counter]:.2f}\")\n",
        "    print(f\"Test Set Loss: {test_loss_hist[counter]:.2f}\")\n",
        "    print_batch_accuracy(data, targets, train=True)\n",
        "    print_batch_accuracy(test_data, test_targets, train=False)\n",
        "    print(\"\\n\")"
      ]
    },
    {
      "cell_type": "markdown",
      "metadata": {
        "id": "woJSGSx68tsd"
      },
      "source": [
        "## 7.2 Loss Definition\n",
        "The `nn.CrossEntropyLoss` function in PyTorch automatically handles taking the softmax of the output layer as well as generating a loss at the output."
      ]
    },
    {
      "cell_type": "code",
      "execution_count": null,
      "metadata": {
        "id": "iqdVyjCNtdlp"
      },
      "outputs": [],
      "source": [
        "loss = nn.CrossEntropyLoss()"
      ]
    },
    {
      "cell_type": "markdown",
      "metadata": {
        "id": "b1fPgSoO9Jgb"
      },
      "source": [
        "## 7.3 Optimizer\n",
        "Adam is a robust optimizer that performs well on recurrent networks, so let's use that with a learning rate of $5\\times10^{-4}$."
      ]
    },
    {
      "cell_type": "code",
      "execution_count": null,
      "metadata": {
        "id": "l62ZR51s9Lxg"
      },
      "outputs": [],
      "source": [
        "optimizer = torch.optim.Adam(net.parameters(), lr=5e-4, betas=(0.9, 0.999))"
      ]
    },
    {
      "cell_type": "markdown",
      "metadata": {
        "id": "GiqAVKzVbfPn"
      },
      "source": [
        "## 7.4 One Iteration of Training\n",
        "Take the first batch of data and load it onto CUDA if available."
      ]
    },
    {
      "cell_type": "code",
      "execution_count": null,
      "metadata": {
        "id": "Hv1q2-Mt9kVi"
      },
      "outputs": [],
      "source": [
        "data, targets = next(iter(train_loader))\n",
        "data = data.to(device)\n",
        "targets = targets.to(device)"
      ]
    },
    {
      "cell_type": "markdown",
      "metadata": {
        "id": "cFahTbAv-Vtt"
      },
      "source": [
        "Flatten the input data to a vector of size $784$ and pass it into the network."
      ]
    },
    {
      "cell_type": "code",
      "execution_count": null,
      "metadata": {
        "colab": {
          "base_uri": "https://localhost:8080/"
        },
        "id": "lltqTEXE92V-",
        "outputId": "970e9072-7af9-4bf7-a78a-52e73f4a44de"
      },
      "outputs": [
        {
          "output_type": "stream",
          "name": "stdout",
          "text": [
            "torch.Size([25, 128, 10])\n"
          ]
        }
      ],
      "source": [
        "spk_rec, mem_rec = net(data.view(batch_size, -1))\n",
        "print(mem_rec.size())"
      ]
    },
    {
      "cell_type": "markdown",
      "metadata": {
        "id": "wd_qv6xD-lCb"
      },
      "source": [
        "The recording of the membrane potential is taken across:\n",
        "* 25 time steps\n",
        "* 128 samples of data\n",
        "* 10 output neurons\n",
        "\n",
        "We wish to calculate the loss at every time step, and sum these up together, as per Equation $(10)$:"
      ]
    },
    {
      "cell_type": "code",
      "execution_count": null,
      "metadata": {
        "colab": {
          "base_uri": "https://localhost:8080/"
        },
        "id": "nsnH8y5G-D-z",
        "outputId": "d32bba33-2171-40f5-a8bc-d656dfd47464"
      },
      "outputs": [
        {
          "output_type": "stream",
          "name": "stdout",
          "text": [
            "Training loss: 60.416\n"
          ]
        }
      ],
      "source": [
        "# initialize the total loss value\n",
        "loss_val = torch.zeros((1), dtype=dtype, device=device)\n",
        "\n",
        "# sum loss at every step\n",
        "for step in range(num_steps):\n",
        "  loss_val += loss(mem_rec[step], targets)\n",
        "\n",
        "print(f\"Training loss: {loss_val.item():.3f}\")"
      ]
    },
    {
      "cell_type": "markdown",
      "metadata": {
        "id": "Q4r0sKMV_4ri"
      },
      "source": [
        "The loss is quite large, because it is summed over 25 time steps. The accuracy is also bad (it should be roughly around 10%) as the network is untrained:"
      ]
    },
    {
      "cell_type": "code",
      "execution_count": null,
      "metadata": {
        "colab": {
          "base_uri": "https://localhost:8080/"
        },
        "id": "qetPvz7mAArd",
        "outputId": "08d5e8dc-2ff1-4795-9987-32666290012a"
      },
      "outputs": [
        {
          "output_type": "stream",
          "name": "stdout",
          "text": [
            "Train set accuracy for a single minibatch: 5.47%\n"
          ]
        }
      ],
      "source": [
        "print_batch_accuracy(data, targets, train=True)"
      ]
    },
    {
      "cell_type": "markdown",
      "metadata": {
        "id": "fUcR0GcUAtPn"
      },
      "source": [
        "A single weight update is applied to the network as follows:"
      ]
    },
    {
      "cell_type": "code",
      "execution_count": null,
      "metadata": {
        "id": "WxyBhsmlAsWM"
      },
      "outputs": [],
      "source": [
        "# clear previously stored gradients\n",
        "optimizer.zero_grad()\n",
        "\n",
        "# calculate the gradients\n",
        "loss_val.backward()\n",
        "\n",
        "# weight update\n",
        "optimizer.step()"
      ]
    },
    {
      "cell_type": "markdown",
      "metadata": {
        "id": "ubyude8eA5p9"
      },
      "source": [
        "Now, re-run the loss calculation and accuracy after a single iteration:"
      ]
    },
    {
      "cell_type": "code",
      "execution_count": null,
      "metadata": {
        "colab": {
          "base_uri": "https://localhost:8080/"
        },
        "id": "l4ZquRR9A9He",
        "outputId": "f742034d-1b55-4320-80c7-fe66d6bd7459"
      },
      "outputs": [
        {
          "output_type": "stream",
          "name": "stdout",
          "text": [
            "Training loss: 48.045\n",
            "Train set accuracy for a single minibatch: 42.19%\n"
          ]
        }
      ],
      "source": [
        "# calculate new network outputs using the same data\n",
        "spk_rec, mem_rec = net(data.view(batch_size, -1))\n",
        "\n",
        "# initialize the total loss value\n",
        "loss_val = torch.zeros((1), dtype=dtype, device=device)\n",
        "\n",
        "# sum loss at every step\n",
        "for step in range(num_steps):\n",
        "  loss_val += loss(mem_rec[step], targets)\n",
        "\n",
        "print(f\"Training loss: {loss_val.item():.3f}\")\n",
        "print_batch_accuracy(data, targets, train=True)"
      ]
    },
    {
      "cell_type": "markdown",
      "metadata": {
        "id": "fbNPCNTSBaW3"
      },
      "source": [
        "After only one iteration, the loss should have decreased and accuracy should have increased. Note how membrane potential is used to calculate the cross entropy\n",
        "loss, and spike count is used for the measure of accuracy. It is also possible to use the spike count in the loss ([see Tutorial 6](https://snntorch.readthedocs.io/en/latest/tutorials/index.html))"
      ]
    },
    {
      "cell_type": "markdown",
      "metadata": {
        "id": "mVgKDes8BiXq"
      },
      "source": [
        "## 7.5 Training Loop\n",
        "\n",
        "Let's combine everything into a training loop. We will train for one epoch (though feel free to increase `num_epochs`), exposing our network to each sample of data once."
      ]
    },
    {
      "cell_type": "code",
      "execution_count": null,
      "metadata": {
        "colab": {
          "base_uri": "https://localhost:8080/"
        },
        "id": "LMZMxEV8dcTC",
        "outputId": "511a1714-a1bd-4d21-b4b1-ed9a250101d1"
      },
      "outputs": [
        {
          "output_type": "stream",
          "name": "stdout",
          "text": [
            "Epoch 0, Iteration 0\n",
            "Train Set Loss: 52.98\n",
            "Test Set Loss: 47.71\n",
            "Train set accuracy for a single minibatch: 56.25%\n",
            "Test set accuracy for a single minibatch: 45.31%\n",
            "\n",
            "\n",
            "Epoch 0, Iteration 50\n",
            "Train Set Loss: 16.00\n",
            "Test Set Loss: 15.20\n",
            "Train set accuracy for a single minibatch: 86.72%\n",
            "Test set accuracy for a single minibatch: 86.72%\n",
            "\n",
            "\n",
            "Epoch 0, Iteration 100\n",
            "Train Set Loss: 7.53\n",
            "Test Set Loss: 9.03\n",
            "Train set accuracy for a single minibatch: 92.97%\n",
            "Test set accuracy for a single minibatch: 89.84%\n",
            "\n",
            "\n",
            "Epoch 0, Iteration 150\n",
            "Train Set Loss: 8.63\n",
            "Test Set Loss: 8.95\n",
            "Train set accuracy for a single minibatch: 89.06%\n",
            "Test set accuracy for a single minibatch: 92.19%\n",
            "\n",
            "\n",
            "Epoch 0, Iteration 200\n",
            "Train Set Loss: 7.96\n",
            "Test Set Loss: 8.53\n",
            "Train set accuracy for a single minibatch: 89.06%\n",
            "Test set accuracy for a single minibatch: 94.53%\n",
            "\n",
            "\n",
            "Epoch 0, Iteration 250\n",
            "Train Set Loss: 15.11\n",
            "Test Set Loss: 6.29\n",
            "Train set accuracy for a single minibatch: 87.50%\n",
            "Test set accuracy for a single minibatch: 88.28%\n",
            "\n",
            "\n",
            "Epoch 0, Iteration 300\n",
            "Train Set Loss: 7.04\n",
            "Test Set Loss: 7.56\n",
            "Train set accuracy for a single minibatch: 93.75%\n",
            "Test set accuracy for a single minibatch: 92.19%\n",
            "\n",
            "\n",
            "Epoch 0, Iteration 350\n",
            "Train Set Loss: 8.14\n",
            "Test Set Loss: 8.06\n",
            "Train set accuracy for a single minibatch: 91.41%\n",
            "Test set accuracy for a single minibatch: 94.53%\n",
            "\n",
            "\n",
            "Epoch 0, Iteration 400\n",
            "Train Set Loss: 5.98\n",
            "Test Set Loss: 7.42\n",
            "Train set accuracy for a single minibatch: 92.19%\n",
            "Test set accuracy for a single minibatch: 93.75%\n",
            "\n",
            "\n",
            "Epoch 0, Iteration 450\n",
            "Train Set Loss: 5.01\n",
            "Test Set Loss: 4.52\n",
            "Train set accuracy for a single minibatch: 96.09%\n",
            "Test set accuracy for a single minibatch: 96.09%\n",
            "\n",
            "\n"
          ]
        }
      ],
      "source": [
        "num_epochs = 1\n",
        "loss_hist = []\n",
        "test_loss_hist = []\n",
        "counter = 0\n",
        "\n",
        "# Outer training loop\n",
        "for epoch in range(num_epochs):\n",
        "    iter_counter = 0\n",
        "    train_batch = iter(train_loader)\n",
        "\n",
        "    # Minibatch training loop\n",
        "    for data, targets in train_batch:\n",
        "        data = data.to(device)\n",
        "        targets = targets.to(device)\n",
        "\n",
        "        # forward pass\n",
        "        net.train()\n",
        "        spk_rec, mem_rec = net(data.view(batch_size, -1))\n",
        "\n",
        "        # initialize the loss & sum over time\n",
        "        loss_val = torch.zeros((1), dtype=dtype, device=device)\n",
        "        for step in range(num_steps):\n",
        "            loss_val += loss(mem_rec[step], targets)\n",
        "\n",
        "        # Gradient calculation + weight update\n",
        "        optimizer.zero_grad()\n",
        "        loss_val.backward()\n",
        "        optimizer.step()\n",
        "\n",
        "        # Store loss history for future plotting\n",
        "        loss_hist.append(loss_val.item())\n",
        "\n",
        "        # Test set\n",
        "        with torch.no_grad():\n",
        "            net.eval()\n",
        "            test_data, test_targets = next(iter(test_loader))\n",
        "            test_data = test_data.to(device)\n",
        "            test_targets = test_targets.to(device)\n",
        "\n",
        "            # Test set forward pass\n",
        "            test_spk, test_mem = net(test_data.view(batch_size, -1))\n",
        "\n",
        "            # Test set loss\n",
        "            test_loss = torch.zeros((1), dtype=dtype, device=device)\n",
        "            for step in range(num_steps):\n",
        "                test_loss += loss(test_mem[step], test_targets)\n",
        "            test_loss_hist.append(test_loss.item())\n",
        "\n",
        "            # Print train/test loss/accuracy\n",
        "            if counter % 50 == 0:\n",
        "                train_printer(\n",
        "                    data, targets, epoch,\n",
        "                    counter, iter_counter,\n",
        "                    loss_hist, test_loss_hist,\n",
        "                    test_data, test_targets)\n",
        "            counter += 1\n",
        "            iter_counter +=1"
      ]
    },
    {
      "cell_type": "code",
      "source": [
        "# Save model so we dont have to retrain every time\n",
        "\n",
        "\n",
        "torch.save(net.state_dict(), \"save_model_dict.pt\")"
      ],
      "metadata": {
        "id": "AgcTba6JwuWJ"
      },
      "execution_count": null,
      "outputs": []
    },
    {
      "cell_type": "code",
      "source": [
        "# Load model\n",
        "net = Net().to(device)\n",
        "net.load_state_dict(torch.load(\"save_model_dict.pt\", weights_only=False))\n",
        "net.eval()"
      ],
      "metadata": {
        "id": "bcGuYTUsw9cz",
        "colab": {
          "base_uri": "https://localhost:8080/"
        },
        "outputId": "203ef745-e0ce-4f06-d2b3-e953f2f2f9c7"
      },
      "execution_count": null,
      "outputs": [
        {
          "output_type": "execute_result",
          "data": {
            "text/plain": [
              "Net(\n",
              "  (fc1): Linear(in_features=784, out_features=1000, bias=True)\n",
              "  (lif1): Leaky()\n",
              "  (fc2): Linear(in_features=1000, out_features=10, bias=True)\n",
              "  (lif2): Leaky()\n",
              ")"
            ]
          },
          "metadata": {},
          "execution_count": 61
        }
      ]
    },
    {
      "cell_type": "markdown",
      "metadata": {
        "id": "Taf6WZLojHTz"
      },
      "source": [
        "If this was your first time training an SNN, then congratulations!"
      ]
    },
    {
      "cell_type": "code",
      "execution_count": null,
      "metadata": {
        "id": "wRmwg6W__XDS",
        "colab": {
          "base_uri": "https://localhost:8080/"
        },
        "outputId": "7f2b4012-2877-4e08-e78a-53702f6018ad"
      },
      "outputs": [
        {
          "output_type": "stream",
          "name": "stdout",
          "text": [
            "Net(\n",
            "  (fc1): Linear(in_features=784, out_features=1000, bias=True)\n",
            "  (lif1): Leaky()\n",
            "  (fc2): Linear(in_features=1000, out_features=10, bias=True)\n",
            "  (lif2): Leaky()\n",
            ")\n",
            "fc1 weights\n",
            "Max: 0.0978502556681633\n",
            "Min: -0.12378033995628357\n",
            "fc1 bias\n",
            "Max: 0.0595090389251709\n",
            "Min: -0.045374058187007904\n",
            "fc2 weights\n",
            "Max: 0.09822347015142441\n",
            "Min: -0.13756749033927917\n",
            "fc2 bias\n",
            "Max: 0.006434378679841757\n",
            "Min: -0.038465987890958786\n"
          ]
        }
      ],
      "source": [
        "# Extract weights and Biases (my own addition)\n",
        "\n",
        "def print_max_min(tensor):\n",
        "  max_val = torch.max(tensor)\n",
        "  min_val = torch.min(tensor)\n",
        "  print(\"Max:\", max_val.item())\n",
        "  print(\"Min:\", min_val.item())\n",
        "\n",
        "\n",
        "print(net)\n",
        "counter = 1\n",
        "for layer in net.children():\n",
        "    if isinstance(layer, nn.Linear):\n",
        "        #print(layer.state_dict()['weight'])\n",
        "        print(\"fc\"+str(counter)+\" weights\")\n",
        "        tmp_weight = layer.state_dict()['weight'].cpu()\n",
        "        np.save(\"fc\"+str(counter)+\"_weights.npy\", tmp_weight.detach().numpy())\n",
        "        print_max_min(tmp_weight)\n",
        "\n",
        "\n",
        "        #print(layer.state_dict()['bias'])\n",
        "        print(\"fc\"+str(counter)+\" bias\")\n",
        "        tmp_bias = layer.state_dict()['bias'].cpu()\n",
        "        np.save(\"fc\"+str(counter)+\"_bias.npy\", tmp_bias.detach().numpy())\n",
        "        print_max_min(tmp_bias)\n",
        "        counter += 1"
      ]
    },
    {
      "cell_type": "code",
      "source": [],
      "metadata": {
        "id": "L_urSQiMwqrp"
      },
      "execution_count": null,
      "outputs": []
    },
    {
      "cell_type": "markdown",
      "metadata": {
        "collapsed": false,
        "id": "HxU7P7xFpko3"
      },
      "source": [
        "# 8. Results\n",
        "## 8.1 Plot Training/Test Loss"
      ]
    },
    {
      "cell_type": "code",
      "execution_count": null,
      "metadata": {
        "id": "_Pk_EScnpkpj",
        "colab": {
          "base_uri": "https://localhost:8080/",
          "height": 368
        },
        "outputId": "dba11df3-8305-4fc1-f0c4-a4c87358c279"
      },
      "outputs": [
        {
          "output_type": "display_data",
          "data": {
            "text/plain": [
              "<Figure size 1000x500 with 1 Axes>"
            ],
            "image/png": "[encoded data removed]"
          },
          "metadata": {}
        }
      ],
      "source": [
        "# Plot Loss\n",
        "fig = plt.figure(facecolor=\"w\", figsize=(10, 5))\n",
        "plt.plot(loss_hist)\n",
        "plt.plot(test_loss_hist)\n",
        "plt.title(\"Loss Curves\")\n",
        "plt.legend([\"Train Loss\", \"Test Loss\"])\n",
        "plt.xlabel(\"Iteration\")\n",
        "plt.ylabel(\"Loss\")\n",
        "plt.show()"
      ]
    },
    {
      "cell_type": "markdown",
      "metadata": {
        "id": "g-Gd84OAl1rB"
      },
      "source": [
        "The loss curves are noisy because the losses are tracked at every iteration, rather than averaging across multiple iterations."
      ]
    },
    {
      "cell_type": "markdown",
      "metadata": {
        "collapsed": false,
        "id": "Z3f0vBnBpkpk"
      },
      "source": [
        "## 8.2 Test Set Accuracy\n",
        "This function iterates over all minibatches to obtain a measure of accuracy over the full 10,000 samples in the test set."
      ]
    },
    {
      "cell_type": "code",
      "source": [
        "!mkdir test_patterns"
      ],
      "metadata": {
        "id": "Gz72cFcVdDBf",
        "colab": {
          "base_uri": "https://localhost:8080/"
        },
        "outputId": "e6c39c41-c223-45ce-b134-ec65faa9c573"
      },
      "execution_count": null,
      "outputs": [
        {
          "output_type": "stream",
          "name": "stdout",
          "text": [
            "mkdir: cannot create directory ‘test_patterns’: File exists\n"
          ]
        }
      ]
    },
    {
      "cell_type": "code",
      "execution_count": null,
      "metadata": {
        "id": "F5Rb4xHGndQh",
        "colab": {
          "base_uri": "https://localhost:8080/"
        },
        "outputId": "159801cf-3e1f-480b-f0bd-46cdbef4d2ae"
      },
      "outputs": [
        {
          "output_type": "stream",
          "name": "stdout",
          "text": [
            "\n",
            "\n",
            "\n",
            "\n",
            "\n",
            "\n",
            "\n",
            "\n",
            "\n",
            "\n",
            "\n",
            "\n",
            "\n",
            "\n",
            "\n",
            "\n",
            "\n",
            "\n",
            "\n",
            "\n",
            "\n",
            "\n",
            "\n",
            "\n",
            "\n",
            "\n",
            "\n",
            "\n",
            "\n",
            "\n",
            "\n",
            "\n",
            "\n",
            "\n",
            "\n",
            "\n",
            "\n",
            "\n",
            "\n",
            "\n",
            "\n",
            "\n",
            "\n",
            "\n",
            "\n",
            "\n",
            "\n",
            "\n",
            "\n",
            "\n",
            "\n",
            "\n",
            "\n",
            "\n",
            "\n",
            "\n",
            "\n",
            "\n",
            "\n",
            "\n",
            "\n",
            "\n",
            "\n",
            "\n",
            "\n",
            "\n",
            "\n",
            "\n",
            "\n",
            "\n",
            "\n",
            "\n",
            "\n",
            "\n",
            "\n",
            "\n",
            "\n",
            "\n",
            "\n",
            "out_neuron_sum of sample 0:\n",
            " tensor([[ 0.,  0.,  0.,  ...,  0., 25.,  0.],\n",
            "        [ 0.,  0., 10.,  ...,  0.,  0.,  0.],\n",
            "        [ 0.,  0., 18.,  ...,  0.,  0.,  0.],\n",
            "        ...,\n",
            "        [20.,  0.,  0.,  ...,  0.,  0.,  0.],\n",
            "        [25.,  0.,  2.,  ...,  0.,  0.,  0.],\n",
            "        [ 0.,  0., 25.,  ...,  0.,  0.,  0.]])\n",
            "Total correctly classified test set images: 9309/10000\n",
            "Test Set Accuracy: 93.09%\n"
          ]
        }
      ],
      "source": [
        "total = 0\n",
        "correct = 0\n",
        "\n",
        "# drop_last switched to False to keep all samples\n",
        "test_loader = DataLoader(mnist_test, batch_size=batch_size, shuffle=True, drop_last=False)\n",
        "\n",
        "out_neuron_sum_list = []\n",
        "counter = 0\n",
        "with torch.no_grad():\n",
        "  net.eval()\n",
        "  for data, targets in test_loader:\n",
        "    data = data.to(device)\n",
        "    targets = targets.to(device)\n",
        "\n",
        "    # forward pass\n",
        "    test_spk, _ = net(data.view(data.size(0), -1))\n",
        "    #print(data.view(data.size(0), -1).dtype)\n",
        "\n",
        "    # Store Test Data (my addition)\n",
        "    tmp_test_data = data.view(data.size(0), -1).cpu()\n",
        "    tmp_test_target = targets.cpu()\n",
        "    print()\n",
        "    np.save(\"test_patterns/test_input_\"+ str(counter) + \".npy\", tmp_test_data)\n",
        "    np.save(\"test_patterns/test_target_\" + str(counter) +\".npy\", tmp_test_target)\n",
        "\n",
        "    # calculate total accuracy\n",
        "    _, predicted = test_spk.sum(dim=0).max(1)\n",
        "    total += targets.size(0)\n",
        "    correct += (predicted == targets).sum().item()\n",
        "\n",
        "    counter += 1\n",
        "\n",
        "    #print(\"test_spk[\"+str(i)+\"] =\", test_spk)\n",
        "    # Sum along the rows (dimension 1)\n",
        "    out_neuron_sum_list.append(torch.sum(test_spk, dim=0))\n",
        "\n",
        "\n",
        "#print(\"out_neuron_sum_list :\")\n",
        "#for i in range(len(out_neuron_sum_list)):\n",
        "# print(out_neuron_sum_list[i])\n",
        "print(\"out_neuron_sum of sample 0:\\n\", out_neuron_sum_list[0])\n",
        "\n",
        "print(f\"Total correctly classified test set images: {correct}/{total}\")\n",
        "print(f\"Test Set Accuracy: {100 * correct / total:.2f}%\")"
      ]
    },
    {
      "cell_type": "code",
      "source": [
        "# Get behaviour of first ten samples\n",
        "\n",
        "\n",
        "test_inputs = np.load(\"test_patterns/test_input_0.npy\")\n",
        "test_targets = np.load(\"test_patterns/test_target_0.npy\")\n",
        "\n",
        "print(\"test_inputs\", test_inputs.shape)\n",
        "print(\"test_targets\", test_targets)\n",
        "\n",
        "\n",
        "\n",
        "\n",
        "counter = 0\n",
        "with torch.no_grad():\n",
        "  net.eval()\n",
        "\n",
        "  for i in range(1):\n",
        "    # forward pass (get output spikes and lif2 membrane potential)\n",
        "    #test_spk, test_v_mem_lif2 = net(data.view(data.size(0), -1))\n",
        "\n",
        "    # Convert to PyTorch tensor with gradients enabled\n",
        "    single_sample_test_input = torch.tensor(test_inputs[i], dtype=torch.float32, requires_grad=True)\n",
        "    test_spk, test_v_mem_lif2 = net(single_sample_test_input)\n",
        "\n",
        "    print(\"layer0->input\", single_sample_test_input)\n",
        "\n",
        "    # get model prediction\n",
        "    predicted = test_spk.sum(dim=0)\n",
        "\n",
        "\n",
        "    # Print the summary of the model behvaiour\n",
        "    print(\"test_spk\\n\", test_spk.size)\n",
        "    print(\"test_v_mem_lif2\\n\", test_v_mem_lif2)\n",
        "    print(\"prediction\", predicted)\n",
        "    print(\"target\", test_targets[i])\n",
        "\n"
      ],
      "metadata": {
        "colab": {
          "base_uri": "https://localhost:8080/"
        },
        "id": "Q14H-WFDAoiW",
        "outputId": "a667e040-aa7c-465e-8bf4-279539df843d"
      },
      "execution_count": null,
      "outputs": [
        {
          "output_type": "stream",
          "name": "stdout",
          "text": [
            "test_inputs (128, 784)\n",
            "test_targets [8 6 4 2 4 0 0 3 0 7 5 9 9 5 3 8 1 5 8 2 4 0 8 4 9 0 1 1 0 4 3 4 1 4 0 1 6\n",
            " 2 8 2 6 1 1 4 4 4 7 1 4 0 8 4 7 3 4 9 2 7 6 5 2 8 9 4 5 7 6 1 0 5 7 2 7 1\n",
            " 3 4 6 7 8 2 1 0 4 5 7 7 7 9 9 1 0 1 1 2 7 2 5 4 3 5 9 0 3 1 0 8 4 0 7 9 5\n",
            " 3 5 4 0 0 9 1 1 7 9 7 8 6 2 9 0 2]\n",
            "layer0->input tensor([0.0000, 0.0000, 0.0000, 0.0000, 0.0000, 0.0000, 0.0000, 0.0000, 0.0000,\n",
            "        0.0000, 0.0000, 0.0000, 0.0000, 0.0000, 0.0000, 0.0000, 0.0000, 0.0000,\n",
            "        0.0000, 0.0000, 0.0000, 0.0000, 0.0000, 0.0000, 0.0000, 0.0000, 0.0000,\n",
            "        0.0000, 0.0000, 0.0000, 0.0000, 0.0000, 0.0000, 0.0000, 0.0000, 0.0000,\n",
            "        0.0000, 0.0000, 0.0000, 0.0000, 0.0000, 0.0000, 0.0000, 0.0000, 0.0000,\n",
            "        0.0000, 0.0000, 0.0000, 0.0000, 0.0000, 0.0000, 0.0000, 0.0000, 0.0000,\n",
            "        0.0000, 0.0000, 0.0000, 0.0000, 0.0000, 0.0000, 0.0000, 0.0000, 0.0000,\n",
            "        0.0000, 0.0000, 0.0000, 0.0000, 0.0000, 0.0000, 0.0000, 0.0000, 0.0000,\n",
            "        0.0000, 0.0000, 0.0000, 0.0000, 0.0000, 0.0000, 0.0000, 0.0000, 0.0000,\n",
            "        0.0000, 0.0000, 0.0000, 0.0000, 0.0000, 0.0000, 0.0000, 0.0000, 0.0000,\n",
            "        0.0000, 0.0000, 0.0000, 0.0000, 0.0000, 0.0000, 0.0000, 0.0000, 0.0000,\n",
            "        0.0000, 0.0000, 0.0000, 0.0000, 0.0000, 0.0000, 0.0000, 0.0000, 0.0000,\n",
            "        0.0000, 0.0000, 0.0000, 0.0000, 0.0000, 0.0000, 0.0000, 0.0000, 0.0000,\n",
            "        0.0000, 0.0000, 0.0000, 0.0000, 0.0000, 0.0000, 0.0000, 0.0000, 0.0000,\n",
            "        0.0000, 0.0000, 0.0000, 0.0000, 0.0000, 0.0000, 0.0000, 0.0000, 0.0000,\n",
            "        0.0000, 0.0000, 0.0000, 0.0000, 0.0000, 0.0000, 0.0000, 0.0000, 0.0000,\n",
            "        0.0000, 0.0000, 0.0000, 0.0000, 0.0000, 0.0000, 0.0000, 0.0000, 0.0745,\n",
            "        0.4706, 0.7961, 0.9961, 1.0000, 0.9961, 0.9961, 0.8627, 0.3333, 0.0000,\n",
            "        0.0000, 0.0000, 0.0000, 0.0000, 0.0000, 0.0000, 0.0000, 0.0000, 0.0000,\n",
            "        0.0000, 0.0000, 0.0000, 0.0000, 0.0000, 0.0000, 0.0000, 0.0863, 0.3137,\n",
            "        0.9294, 0.9922, 0.9922, 0.9922, 0.8118, 0.4824, 0.7451, 0.9412, 0.9725,\n",
            "        0.4118, 0.0000, 0.0000, 0.0000, 0.0000, 0.0000, 0.0000, 0.0000, 0.0000,\n",
            "        0.0000, 0.0000, 0.0000, 0.0000, 0.0000, 0.0000, 0.0000, 0.1176, 0.8314,\n",
            "        0.9922, 0.9961, 0.9412, 0.6039, 0.4078, 0.0000, 0.0000, 0.0431, 0.8431,\n",
            "        0.9961, 0.4196, 0.0000, 0.0000, 0.0000, 0.0000, 0.0000, 0.0000, 0.0000,\n",
            "        0.0000, 0.0000, 0.0000, 0.0000, 0.0000, 0.0000, 0.0000, 0.2353, 0.8392,\n",
            "        0.9922, 0.9922, 0.5333, 0.1216, 0.0000, 0.0000, 0.0000, 0.0000, 0.3569,\n",
            "        0.9922, 0.7961, 0.0235, 0.0000, 0.0000, 0.0000, 0.0000, 0.0000, 0.0000,\n",
            "        0.0000, 0.0000, 0.0000, 0.0000, 0.0000, 0.0000, 0.0000, 0.3333, 0.8667,\n",
            "        0.9961, 0.8392, 0.2314, 0.0000, 0.0000, 0.0000, 0.0000, 0.0000, 0.0510,\n",
            "        0.8667, 0.9961, 0.2667, 0.0000, 0.0000, 0.0000, 0.0000, 0.0000, 0.0000,\n",
            "        0.0000, 0.0000, 0.0000, 0.0000, 0.0000, 0.0000, 0.0000, 0.1843, 0.8706,\n",
            "        0.9961, 0.8275, 0.1137, 0.0000, 0.0000, 0.0000, 0.0000, 0.0000, 0.0000,\n",
            "        0.7098, 0.9922, 0.4667, 0.0000, 0.0000, 0.0000, 0.0000, 0.0000, 0.0000,\n",
            "        0.0000, 0.0000, 0.0000, 0.0000, 0.0000, 0.0000, 0.0000, 0.0000, 0.8118,\n",
            "        0.9922, 0.9961, 0.3373, 0.0510, 0.0000, 0.0000, 0.0000, 0.0000, 0.0353,\n",
            "        0.5529, 0.9765, 0.8510, 0.0510, 0.0000, 0.0000, 0.0000, 0.0000, 0.0000,\n",
            "        0.0000, 0.0000, 0.0000, 0.0000, 0.0000, 0.0000, 0.0000, 0.0000, 0.0000,\n",
            "        0.4196, 0.9922, 0.9961, 0.8941, 0.8667, 0.7216, 0.4980, 0.0353, 0.0353,\n",
            "        0.7216, 0.9961, 0.9255, 0.1137, 0.0000, 0.0000, 0.0000, 0.0000, 0.0000,\n",
            "        0.0000, 0.0000, 0.0000, 0.0000, 0.0000, 0.0000, 0.0000, 0.0000, 0.0000,\n",
            "        0.0000, 0.0000, 0.5255, 0.9961, 0.9961, 0.9961, 0.9961, 0.9961, 0.9961,\n",
            "        0.9961, 0.9961, 0.9961, 0.3529, 0.0000, 0.0000, 0.0000, 0.0000, 0.0000,\n",
            "        0.0000, 0.0000, 0.0000, 0.0000, 0.0000, 0.0000, 0.0000, 0.0000, 0.0000,\n",
            "        0.0000, 0.0000, 0.0000, 0.0000, 0.0902, 0.4196, 0.4510, 0.5804, 0.8627,\n",
            "        0.9922, 0.9922, 0.9922, 0.9961, 0.8471, 0.1647, 0.0000, 0.0000, 0.0000,\n",
            "        0.0000, 0.0000, 0.0000, 0.0000, 0.0000, 0.0000, 0.0000, 0.0000, 0.0000,\n",
            "        0.0000, 0.0000, 0.0000, 0.0000, 0.0000, 0.0000, 0.0000, 0.0000, 0.0000,\n",
            "        0.3059, 0.9922, 0.9843, 0.9020, 0.9961, 0.9922, 0.8784, 0.1255, 0.0000,\n",
            "        0.0000, 0.0000, 0.0000, 0.0000, 0.0000, 0.0000, 0.0000, 0.0000, 0.0000,\n",
            "        0.0000, 0.0000, 0.0000, 0.0000, 0.0000, 0.0000, 0.0000, 0.0000, 0.0000,\n",
            "        0.2667, 0.8980, 0.9922, 0.7686, 0.0000, 0.3686, 0.9608, 0.9922, 0.4039,\n",
            "        0.0000, 0.0000, 0.0000, 0.0000, 0.0000, 0.0000, 0.0000, 0.0000, 0.0000,\n",
            "        0.0000, 0.0000, 0.0000, 0.0000, 0.0000, 0.0000, 0.0000, 0.0000, 0.0000,\n",
            "        0.1608, 0.8980, 0.9961, 0.7804, 0.0667, 0.0000, 0.0000, 0.6745, 0.9961,\n",
            "        0.6314, 0.0000, 0.0000, 0.0000, 0.0000, 0.0000, 0.0000, 0.0000, 0.0000,\n",
            "        0.0000, 0.0000, 0.0000, 0.0000, 0.0000, 0.0000, 0.0000, 0.0000, 0.0000,\n",
            "        0.0353, 0.6824, 0.9922, 0.7804, 0.0745, 0.0000, 0.0000, 0.0000, 0.7412,\n",
            "        0.9922, 0.5608, 0.0000, 0.0000, 0.0000, 0.0000, 0.0000, 0.0000, 0.0000,\n",
            "        0.0000, 0.0000, 0.0000, 0.0000, 0.0000, 0.0000, 0.0000, 0.0000, 0.0000,\n",
            "        0.0000, 0.3490, 0.9922, 0.9569, 0.2000, 0.0000, 0.0000, 0.0000, 0.1608,\n",
            "        0.9451, 0.9922, 0.2706, 0.0000, 0.0000, 0.0000, 0.0000, 0.0000, 0.0000,\n",
            "        0.0000, 0.0000, 0.0000, 0.0000, 0.0000, 0.0000, 0.0000, 0.0000, 0.0000,\n",
            "        0.0000, 0.0000, 0.6745, 0.9922, 0.6275, 0.0000, 0.0000, 0.0000, 0.0000,\n",
            "        0.8980, 0.9922, 0.9569, 0.1725, 0.0000, 0.0000, 0.0000, 0.0000, 0.0000,\n",
            "        0.0000, 0.0000, 0.0000, 0.0000, 0.0000, 0.0000, 0.0000, 0.0000, 0.0000,\n",
            "        0.0000, 0.0000, 0.0000, 0.9059, 0.9961, 0.6314, 0.0000, 0.0000, 0.0275,\n",
            "        0.6667, 1.0000, 0.9961, 0.5725, 0.0000, 0.0000, 0.0000, 0.0000, 0.0000,\n",
            "        0.0000, 0.0000, 0.0000, 0.0000, 0.0000, 0.0000, 0.0000, 0.0000, 0.0000,\n",
            "        0.0000, 0.0000, 0.0000, 0.0000, 0.7059, 0.9922, 0.9608, 0.5451, 0.5412,\n",
            "        0.7137, 0.9922, 0.9961, 0.7608, 0.0824, 0.0000, 0.0000, 0.0000, 0.0000,\n",
            "        0.0000, 0.0000, 0.0000, 0.0000, 0.0000, 0.0000, 0.0000, 0.0000, 0.0000,\n",
            "        0.0000, 0.0000, 0.0000, 0.0000, 0.0000, 0.2314, 0.6784, 0.9922, 0.9961,\n",
            "        0.9922, 0.9922, 0.9922, 0.8039, 0.0510, 0.0000, 0.0000, 0.0000, 0.0000,\n",
            "        0.0000, 0.0000, 0.0000, 0.0000, 0.0000, 0.0000, 0.0000, 0.0000, 0.0000,\n",
            "        0.0000, 0.0000, 0.0000, 0.0000, 0.0000, 0.0000, 0.0000, 0.1255, 0.6627,\n",
            "        0.9961, 0.9922, 0.9569, 0.5020, 0.0000, 0.0000, 0.0000, 0.0000, 0.0000,\n",
            "        0.0000, 0.0000, 0.0000, 0.0000, 0.0000, 0.0000, 0.0000, 0.0000, 0.0000,\n",
            "        0.0000, 0.0000, 0.0000, 0.0000, 0.0000, 0.0000, 0.0000, 0.0000, 0.0000,\n",
            "        0.0000, 0.0000, 0.0000, 0.0000, 0.0000, 0.0000, 0.0000, 0.0000, 0.0000,\n",
            "        0.0000, 0.0000, 0.0000, 0.0000, 0.0000, 0.0000, 0.0000, 0.0000, 0.0000,\n",
            "        0.0000, 0.0000, 0.0000, 0.0000, 0.0000, 0.0000, 0.0000, 0.0000, 0.0000,\n",
            "        0.0000, 0.0000, 0.0000, 0.0000, 0.0000, 0.0000, 0.0000, 0.0000, 0.0000,\n",
            "        0.0000, 0.0000, 0.0000, 0.0000, 0.0000, 0.0000, 0.0000, 0.0000, 0.0000,\n",
            "        0.0000, 0.0000, 0.0000, 0.0000, 0.0000, 0.0000, 0.0000, 0.0000, 0.0000,\n",
            "        0.0000, 0.0000, 0.0000, 0.0000, 0.0000, 0.0000, 0.0000, 0.0000, 0.0000,\n",
            "        0.0000, 0.0000, 0.0000, 0.0000, 0.0000, 0.0000, 0.0000, 0.0000, 0.0000,\n",
            "        0.0000], requires_grad=True)\n",
            "test_spk\n",
            " <built-in method size of Tensor object at 0x7823e5b53470>\n",
            "test_v_mem_lif2\n",
            " tensor([[-4.6090e-01, -1.0560e+00, -9.8250e-02, -2.9807e-01,  2.5635e-01,\n",
            "         -4.2348e-01, -1.2857e-02, -8.8742e-01,  1.3450e+00,  4.1308e-02],\n",
            "        [-1.2491e+00, -3.5171e+00, -6.6122e-01, -4.9891e-01, -3.3832e-01,\n",
            "         -5.5427e-01, -7.3339e-01, -3.3399e+00,  3.0774e+00, -1.7931e-02],\n",
            "        [-2.4007e+00, -4.9155e+00, -1.2568e+00, -8.6903e-01, -8.1322e-01,\n",
            "         -5.9667e-01, -1.4317e+00, -5.8972e+00,  3.8865e+00, -4.9204e-03],\n",
            "        [-3.6385e+00, -6.6721e+00, -1.4980e+00, -1.2137e+00, -1.3748e+00,\n",
            "         -1.0813e+00, -2.7925e+00, -7.4551e+00,  4.9230e+00, -4.6764e-01],\n",
            "        [-3.7417e+00, -8.2561e+00, -2.3843e+00, -1.9076e+00, -1.8095e+00,\n",
            "         -9.4992e-01, -3.0937e+00, -9.4620e+00,  5.4585e+00, -9.0313e-01],\n",
            "        [-5.5829e+00, -9.8820e+00, -3.1636e+00, -2.0410e+00, -2.4942e+00,\n",
            "         -6.0708e-01, -3.7998e+00, -1.1651e+01,  6.5364e+00, -9.2004e-01],\n",
            "        [-6.4618e+00, -1.1610e+01, -3.5441e+00, -2.3218e+00, -2.8313e+00,\n",
            "         -9.4755e-01, -4.7203e+00, -1.3248e+01,  7.2915e+00, -9.7899e-01],\n",
            "        [-7.2432e+00, -1.2461e+01, -3.7683e+00, -2.5646e+00, -3.6102e+00,\n",
            "         -1.1358e+00, -5.3253e+00, -1.4993e+01,  7.7622e+00, -1.6648e+00],\n",
            "        [-8.2148e+00, -1.3787e+01, -4.3196e+00, -3.0352e+00, -3.9384e+00,\n",
            "         -9.7542e-01, -6.3544e+00, -1.6635e+01,  8.2079e+00, -1.6265e+00],\n",
            "        [-9.0585e+00, -1.4772e+01, -4.6666e+00, -3.0655e+00, -4.1510e+00,\n",
            "         -1.3854e+00, -6.8506e+00, -1.7977e+01,  8.4968e+00, -2.0965e+00],\n",
            "        [-9.2915e+00, -1.6055e+01, -5.1390e+00, -3.5549e+00, -4.7678e+00,\n",
            "         -1.4426e+00, -7.3622e+00, -1.9223e+01,  9.3358e+00, -2.2953e+00],\n",
            "        [-1.0588e+01, -1.7491e+01, -5.4945e+00, -3.4791e+00, -5.4013e+00,\n",
            "         -1.0030e+00, -8.1405e+00, -2.0697e+01,  9.7535e+00, -2.3162e+00],\n",
            "        [-1.1043e+01, -1.8305e+01, -6.2169e+00, -4.0356e+00, -5.5002e+00,\n",
            "         -1.3602e+00, -8.6288e+00, -2.1476e+01,  1.0357e+01, -2.5282e+00],\n",
            "        [-1.1799e+01, -1.9158e+01, -6.3304e+00, -4.4665e+00, -5.9386e+00,\n",
            "         -1.3672e+00, -9.0899e+00, -2.3086e+01,  1.0892e+01, -2.7198e+00],\n",
            "        [-1.2319e+01, -2.0406e+01, -6.2906e+00, -4.2285e+00, -6.7873e+00,\n",
            "         -1.5013e+00, -9.6186e+00, -2.4073e+01,  1.1274e+01, -3.1623e+00],\n",
            "        [-1.3080e+01, -2.0980e+01, -6.6284e+00, -4.5681e+00, -6.9251e+00,\n",
            "         -1.5193e+00, -1.0077e+01, -2.5445e+01,  1.1625e+01, -3.1852e+00],\n",
            "        [-1.3558e+01, -2.1720e+01, -6.6596e+00, -4.8702e+00, -6.8119e+00,\n",
            "         -1.8349e+00, -1.0792e+01, -2.6379e+01,  1.2031e+01, -3.1646e+00],\n",
            "        [-1.4145e+01, -2.3001e+01, -7.2834e+00, -4.5853e+00, -7.5270e+00,\n",
            "         -1.0952e+00, -1.1269e+01, -2.7360e+01,  1.2452e+01, -3.3404e+00],\n",
            "        [-1.4575e+01, -2.3695e+01, -7.5836e+00, -4.7779e+00, -7.5905e+00,\n",
            "         -1.4560e+00, -1.1441e+01, -2.7990e+01,  1.2558e+01, -3.5393e+00],\n",
            "        [-1.5270e+01, -2.4028e+01, -7.7823e+00, -5.1407e+00, -7.5855e+00,\n",
            "         -1.7023e+00, -1.2148e+01, -2.9285e+01,  1.2661e+01, -3.7469e+00],\n",
            "        [-1.5496e+01, -2.5116e+01, -7.7048e+00, -5.3665e+00, -8.6308e+00,\n",
            "         -1.6292e+00, -1.2240e+01, -2.9754e+01,  1.3292e+01, -3.8533e+00],\n",
            "        [-1.6065e+01, -2.5617e+01, -8.2971e+00, -5.3640e+00, -8.3297e+00,\n",
            "         -2.0365e+00, -1.2815e+01, -3.0720e+01,  1.3720e+01, -3.9516e+00],\n",
            "        [-1.6264e+01, -2.6195e+01, -8.5828e+00, -5.5962e+00, -8.5750e+00,\n",
            "         -1.7889e+00, -1.2630e+01, -3.1629e+01,  1.4003e+01, -3.8506e+00],\n",
            "        [-1.7465e+01, -2.7220e+01, -9.1177e+00, -5.8728e+00, -8.9023e+00,\n",
            "         -1.2297e+00, -1.3425e+01, -3.2126e+01,  1.4063e+01, -3.8398e+00],\n",
            "        [-1.7487e+01, -2.7522e+01, -9.1765e+00, -5.5682e+00, -9.2043e+00,\n",
            "         -1.2745e+00, -1.3465e+01, -3.3384e+01,  1.4286e+01, -3.8246e+00]])\n",
            "prediction tensor([ 0.,  0.,  0.,  0.,  0.,  0.,  0.,  0., 25.,  0.])\n",
            "target 8\n"
          ]
        }
      ]
    },
    {
      "cell_type": "markdown",
      "source": [],
      "metadata": {
        "id": "nMd_TXDPA3gM"
      }
    },
    {
      "cell_type": "code",
      "source": [
        "# Probe what the first test batch would look like inside the model\n",
        "counter = 0\n",
        "with torch.no_grad():\n",
        "  net.eval()\n",
        "  for data, targets in test_loader:\n",
        "    if (counter == 0):\n",
        "      data = data.to(device)\n",
        "      targets = targets.to(device)\n",
        "\n",
        "      # forward pass (get output spikes and lif2 membrane potential)\n",
        "      test_spk, test_v_mem_lif2 = net(data.view(data.size(0), -1))\n",
        "\n",
        "      # get model prediction\n",
        "      _, predicted = test_spk.sum(dim=0).max(1)\n",
        "\n",
        "\n",
        "      # Print the summary of the model behvaiour\n",
        "      print(\"test_spk\\n\", test_spk.size())\n",
        "      print(\"test_v_mem_lif2\\n\", test_v_mem_lif2.size())\n",
        "      print(\"prediction\", predicted)\n",
        "      print(\"target\", targets)\n",
        "\n",
        "      counter += 1\n",
        "    else:\n",
        "      break\n",
        "\n",
        "\n",
        "\n"
      ],
      "metadata": {
        "colab": {
          "base_uri": "https://localhost:8080/"
        },
        "id": "4GjEKF5M_KgM",
        "outputId": "26a4d78e-3484-42ec-939a-666c8c1d46e8"
      },
      "execution_count": null,
      "outputs": [
        {
          "output_type": "stream",
          "name": "stdout",
          "text": [
            "test_spk\n",
            " torch.Size([25, 128, 10])\n",
            "test_v_mem_lif2\n",
            " torch.Size([25, 128, 10])\n",
            "prediction tensor([1, 7, 4, 1, 1, 3, 7, 4, 7, 1, 5, 0, 2, 1, 0, 1, 4, 4, 1, 4, 7, 9, 2, 8,\n",
            "        5, 7, 4, 6, 7, 7, 7, 0, 1, 8, 0, 8, 6, 5, 2, 9, 4, 3, 8, 7, 4, 3, 5, 4,\n",
            "        0, 6, 8, 4, 7, 0, 3, 8, 3, 2, 5, 1, 0, 1, 2, 4, 6, 6, 8, 0, 6, 9, 7, 7,\n",
            "        7, 0, 1, 3, 3, 8, 3, 8, 3, 2, 1, 9, 7, 5, 8, 4, 7, 2, 8, 3, 3, 1, 3, 4,\n",
            "        9, 6, 8, 7, 1, 8, 1, 2, 1, 4, 7, 9, 0, 6, 8, 8, 5, 0, 7, 2, 0, 7, 2, 3,\n",
            "        8, 8, 3, 1, 4, 3, 4, 6])\n",
            "target tensor([2, 7, 4, 1, 1, 3, 7, 9, 7, 1, 5, 0, 2, 1, 0, 1, 4, 4, 1, 4, 7, 9, 2, 8,\n",
            "        5, 7, 4, 6, 7, 7, 7, 0, 1, 8, 0, 8, 6, 5, 2, 9, 4, 3, 8, 7, 4, 3, 5, 4,\n",
            "        0, 6, 8, 4, 7, 0, 3, 5, 3, 2, 5, 1, 0, 1, 2, 4, 6, 6, 8, 0, 6, 7, 7, 7,\n",
            "        7, 7, 1, 5, 3, 8, 3, 8, 3, 3, 1, 9, 7, 5, 8, 4, 7, 3, 8, 3, 3, 1, 3, 4,\n",
            "        9, 6, 8, 7, 1, 8, 1, 2, 1, 4, 7, 9, 0, 6, 8, 6, 5, 0, 7, 6, 0, 7, 2, 3,\n",
            "        8, 8, 3, 1, 4, 3, 4, 6])\n"
          ]
        }
      ]
    },
    {
      "cell_type": "code",
      "source": [
        "\n"
      ],
      "metadata": {
        "id": "o3TR4Fp2wF2y"
      },
      "execution_count": null,
      "outputs": []
    },
    {
      "cell_type": "code",
      "execution_count": null,
      "metadata": {
        "id": "16kla6TPHwjU",
        "colab": {
          "base_uri": "https://localhost:8080/"
        },
        "outputId": "ba5b5207-d5aa-448c-8667-6c77afc1f63f"
      },
      "outputs": [
        {
          "output_type": "stream",
          "name": "stdout",
          "text": [
            "test_spk[0] = tensor([[0., 0., 1., 1., 0., 0., 0., 0., 0., 0.],\n",
            "        [0., 0., 1., 1., 0., 1., 0., 0., 0., 0.],\n",
            "        [0., 0., 1., 1., 0., 1., 0., 0., 0., 0.],\n",
            "        [0., 0., 1., 1., 0., 1., 0., 0., 0., 0.],\n",
            "        [0., 0., 1., 1., 0., 1., 0., 0., 0., 0.],\n",
            "        [0., 0., 1., 1., 0., 1., 0., 0., 0., 0.],\n",
            "        [0., 0., 1., 1., 0., 1., 0., 0., 0., 0.],\n",
            "        [0., 0., 1., 1., 0., 1., 0., 1., 0., 0.],\n",
            "        [0., 0., 1., 1., 0., 1., 0., 0., 0., 0.],\n",
            "        [0., 0., 1., 1., 0., 1., 0., 0., 0., 0.],\n",
            "        [0., 0., 1., 1., 0., 1., 0., 0., 0., 0.],\n",
            "        [0., 0., 1., 1., 0., 1., 0., 0., 0., 0.],\n",
            "        [0., 0., 1., 1., 0., 1., 0., 1., 0., 0.],\n",
            "        [0., 0., 1., 1., 0., 1., 0., 0., 0., 0.],\n",
            "        [0., 0., 1., 1., 0., 1., 0., 0., 0., 0.],\n",
            "        [0., 0., 1., 1., 0., 1., 0., 0., 0., 0.],\n",
            "        [0., 0., 1., 1., 0., 1., 0., 1., 0., 0.],\n",
            "        [0., 0., 1., 1., 0., 1., 0., 0., 0., 0.],\n",
            "        [0., 0., 1., 1., 0., 1., 0., 0., 0., 0.],\n",
            "        [0., 0., 1., 1., 0., 1., 0., 0., 0., 0.],\n",
            "        [0., 0., 1., 1., 0., 1., 0., 0., 0., 0.],\n",
            "        [0., 0., 1., 1., 0., 1., 0., 1., 0., 0.],\n",
            "        [0., 0., 1., 1., 0., 1., 0., 0., 0., 0.],\n",
            "        [0., 0., 1., 1., 0., 1., 0., 0., 0., 0.],\n",
            "        [0., 0., 1., 1., 0., 1., 0., 0., 0., 0.]])\n",
            "test_spk[1] = tensor([[0., 0., 1., 1., 0., 0., 0., 0., 0., 0.],\n",
            "        [0., 0., 1., 1., 0., 1., 0., 0., 0., 0.],\n",
            "        [0., 0., 1., 1., 0., 1., 0., 0., 0., 0.],\n",
            "        [0., 0., 1., 1., 0., 1., 0., 0., 0., 0.],\n",
            "        [0., 0., 1., 1., 0., 1., 0., 0., 0., 0.],\n",
            "        [0., 0., 1., 1., 0., 1., 0., 0., 0., 0.],\n",
            "        [0., 0., 1., 1., 0., 1., 0., 0., 0., 0.],\n",
            "        [0., 0., 1., 1., 0., 1., 0., 1., 0., 0.],\n",
            "        [0., 0., 1., 1., 0., 1., 0., 0., 0., 0.],\n",
            "        [0., 0., 1., 1., 0., 1., 0., 0., 0., 0.],\n",
            "        [0., 0., 1., 1., 0., 1., 0., 0., 0., 0.],\n",
            "        [0., 0., 1., 1., 0., 1., 0., 0., 0., 0.],\n",
            "        [0., 0., 1., 1., 0., 1., 0., 1., 0., 0.],\n",
            "        [0., 0., 1., 1., 0., 1., 0., 0., 0., 0.],\n",
            "        [0., 0., 1., 1., 0., 1., 0., 0., 0., 0.],\n",
            "        [0., 0., 1., 1., 0., 1., 0., 0., 0., 0.],\n",
            "        [0., 0., 1., 1., 0., 1., 0., 1., 0., 0.],\n",
            "        [0., 0., 1., 1., 0., 1., 0., 0., 0., 0.],\n",
            "        [0., 0., 1., 1., 0., 1., 0., 0., 0., 0.],\n",
            "        [0., 0., 1., 1., 0., 1., 0., 0., 0., 0.],\n",
            "        [0., 0., 1., 1., 0., 1., 0., 0., 0., 0.],\n",
            "        [0., 0., 1., 1., 0., 1., 0., 1., 0., 0.],\n",
            "        [0., 0., 1., 1., 0., 1., 0., 0., 0., 0.],\n",
            "        [0., 0., 1., 1., 0., 1., 0., 0., 0., 0.],\n",
            "        [0., 0., 1., 1., 0., 1., 0., 0., 0., 0.]])\n",
            "out_neuron_sum_list:\n",
            "tensor([ 0.,  0., 25., 25.,  0., 24.,  0.,  4.,  0.,  0.])\n",
            "tensor([ 0.,  0., 25., 25.,  0., 24.,  0.,  4.,  0.,  0.])\n"
          ]
        }
      ],
      "source": [
        "# My Test inputs\n",
        "\n",
        "num_samples = 2\n",
        "\n",
        "test_inputs = []\n",
        "for i in range(num_samples):\n",
        "  input_sample = []\n",
        "  for j in range(num_inputs):\n",
        "    input_sample.append(j % 2)\n",
        "\n",
        "  test_inputs.append(input_sample)\n",
        "\n",
        "test_inputs_tensor = torch.tensor(test_inputs, dtype=torch.float32)\n",
        "\n",
        "\n",
        "# M\n",
        "out_neuron_sum_list = []\n",
        "with torch.no_grad():\n",
        "  net.eval()\n",
        "  #for data, targets in test_loader:\n",
        "  for i in range(num_samples):\n",
        "\n",
        "    # forward pass\n",
        "    #test_spk, _ = net(data.view(data.size(0), -1))\n",
        "    test_spk, _ = net(test_inputs_tensor[i])\n",
        "\n",
        "    print(\"test_spk[\"+str(i)+\"] =\", test_spk)\n",
        "    # Sum along the rows (dimension 1)\n",
        "    out_neuron_sum_list.append(torch.sum(test_spk, dim=0))\n",
        "\n",
        "\n",
        "print(\"out_neuron_sum_list:\")\n",
        "for i in range(len(out_neuron_sum_list)):\n",
        "  print(out_neuron_sum_list[i])\n"
      ]
    },
    {
      "cell_type": "markdown",
      "metadata": {
        "collapsed": false,
        "id": "TBIXau4Zpkpl"
      },
      "source": [
        "Voila! That's it for static MNIST. Feel free to tweak the network parameters, hyperparameters, decay rate, using a learning rate scheduler etc. to see if you can improve the network performance."
      ]
    },
    {
      "cell_type": "code",
      "execution_count": null,
      "metadata": {
        "id": "oGfxM8k4NCeo",
        "colab": {
          "base_uri": "https://localhost:8080/"
        },
        "outputId": "d5d70778-2394-4f29-fc44-567cebb40dcb"
      },
      "outputs": [
        {
          "output_type": "stream",
          "name": "stdout",
          "text": [
            "  adding: test_patterns/ (stored 0%)\n",
            "  adding: test_patterns/test_input_8.npy (deflated 91%)\n",
            "  adding: test_patterns/test_input_43.npy (deflated 91%)\n",
            "  adding: test_patterns/test_input_28.npy (deflated 92%)\n",
            "  adding: test_patterns/test_input_75.npy (deflated 92%)\n",
            "  adding: test_patterns/test_input_37.npy (deflated 92%)\n",
            "  adding: test_patterns/test_target_76.npy (deflated 80%)\n",
            "  adding: test_patterns/test_input_56.npy (deflated 92%)\n",
            "  adding: test_patterns/test_input_50.npy (deflated 92%)\n",
            "  adding: test_patterns/test_input_21.npy (deflated 92%)\n",
            "  adding: test_patterns/test_target_10.npy (deflated 80%)\n",
            "  adding: test_patterns/test_input_42.npy (deflated 91%)\n",
            "  adding: test_patterns/test_target_33.npy (deflated 80%)\n",
            "  adding: test_patterns/test_input_38.npy (deflated 92%)\n",
            "  adding: test_patterns/test_target_8.npy (deflated 80%)\n",
            "  adding: test_patterns/test_input_63.npy (deflated 91%)\n",
            "  adding: test_patterns/test_input_40.npy (deflated 91%)\n",
            "  adding: test_patterns/test_input_35.npy (deflated 91%)\n",
            "  adding: test_patterns/test_input_36.npy (deflated 91%)\n",
            "  adding: test_patterns/test_target_50.npy (deflated 80%)\n",
            "  adding: test_patterns/test_target_14.npy (deflated 80%)\n",
            "  adding: test_patterns/test_target_52.npy (deflated 80%)\n",
            "  adding: test_patterns/test_input_60.npy (deflated 92%)\n",
            "  adding: test_patterns/test_target_57.npy (deflated 80%)\n",
            "  adding: test_patterns/test_input_76.npy (deflated 91%)\n",
            "  adding: test_patterns/test_target_0.npy (deflated 80%)\n",
            "  adding: test_patterns/test_input_39.npy (deflated 92%)\n",
            "  adding: test_patterns/test_input_0.npy (deflated 92%)\n",
            "  adding: test_patterns/test_target_73.npy (deflated 80%)\n",
            "  adding: test_patterns/test_input_44.npy (deflated 91%)\n",
            "  adding: test_patterns/test_target_22.npy (deflated 80%)\n",
            "  adding: test_patterns/test_input_55.npy (deflated 91%)\n",
            "  adding: test_patterns/test_input_12.npy (deflated 91%)\n",
            "  adding: test_patterns/test_input_70.npy (deflated 91%)\n",
            "  adding: test_patterns/test_input_72.npy (deflated 92%)\n",
            "  adding: test_patterns/test_input_22.npy (deflated 92%)\n",
            "  adding: test_patterns/test_target_18.npy (deflated 81%)\n",
            "  adding: test_patterns/test_input_57.npy (deflated 91%)\n",
            "  adding: test_patterns/test_target_25.npy (deflated 80%)\n",
            "  adding: test_patterns/test_target_45.npy (deflated 80%)\n",
            "  adding: test_patterns/test_input_26.npy (deflated 92%)\n",
            "  adding: test_patterns/test_input_7.npy (deflated 91%)\n",
            "  adding: test_patterns/test_input_9.npy (deflated 91%)\n",
            "  adding: test_patterns/test_input_6.npy (deflated 92%)\n",
            "  adding: test_patterns/test_target_20.npy (deflated 80%)\n",
            "  adding: test_patterns/test_input_71.npy (deflated 91%)\n",
            "  adding: test_patterns/test_input_78.npy (deflated 90%)\n",
            "  adding: test_patterns/test_target_40.npy (deflated 81%)\n",
            "  adding: test_patterns/test_input_1.npy (deflated 92%)\n",
            "  adding: test_patterns/test_input_46.npy (deflated 91%)\n",
            "  adding: test_patterns/test_target_68.npy (deflated 80%)\n",
            "  adding: test_patterns/test_input_4.npy (deflated 91%)\n",
            "  adding: test_patterns/test_input_77.npy (deflated 92%)\n",
            "  adding: test_patterns/test_input_49.npy (deflated 92%)\n",
            "  adding: test_patterns/test_input_58.npy (deflated 91%)\n",
            "  adding: test_patterns/test_input_52.npy (deflated 92%)\n",
            "  adding: test_patterns/test_target_61.npy (deflated 80%)\n",
            "  adding: test_patterns/test_target_4.npy (deflated 80%)\n",
            "  adding: test_patterns/test_target_2.npy (deflated 80%)\n",
            "  adding: test_patterns/test_target_74.npy (deflated 80%)\n",
            "  adding: test_patterns/test_input_11.npy (deflated 91%)\n",
            "  adding: test_patterns/test_input_33.npy (deflated 91%)\n",
            "  adding: test_patterns/test_target_6.npy (deflated 79%)\n",
            "  adding: test_patterns/test_input_66.npy (deflated 91%)\n",
            "  adding: test_patterns/test_target_43.npy (deflated 80%)\n",
            "  adding: test_patterns/test_target_65.npy (deflated 80%)\n",
            "  adding: test_patterns/test_target_44.npy (deflated 80%)\n",
            "  adding: test_patterns/test_input_65.npy (deflated 91%)\n",
            "  adding: test_patterns/test_target_16.npy (deflated 80%)\n",
            "  adding: test_patterns/test_target_48.npy (deflated 81%)\n",
            "  adding: test_patterns/test_input_62.npy (deflated 92%)\n",
            "  adding: test_patterns/test_input_30.npy (deflated 91%)\n",
            "  adding: test_patterns/test_input_69.npy (deflated 92%)\n",
            "  adding: test_patterns/test_target_39.npy (deflated 80%)\n",
            "  adding: test_patterns/test_target_41.npy (deflated 80%)\n",
            "  adding: test_patterns/test_target_36.npy (deflated 80%)\n",
            "  adding: test_patterns/test_target_78.npy (deflated 62%)\n",
            "  adding: test_patterns/test_input_41.npy (deflated 91%)\n",
            "  adding: test_patterns/test_input_59.npy (deflated 92%)\n",
            "  adding: test_patterns/test_target_35.npy (deflated 80%)\n",
            "  adding: test_patterns/test_target_62.npy (deflated 80%)\n",
            "  adding: test_patterns/test_target_56.npy (deflated 80%)\n",
            "  adding: test_patterns/test_target_27.npy (deflated 80%)\n",
            "  adding: test_patterns/test_input_32.npy (deflated 92%)\n",
            "  adding: test_patterns/test_input_25.npy (deflated 91%)\n",
            "  adding: test_patterns/test_target_1.npy (deflated 80%)\n",
            "  adding: test_patterns/test_target_64.npy (deflated 80%)\n",
            "  adding: test_patterns/test_target_24.npy (deflated 80%)\n",
            "  adding: test_patterns/test_target_58.npy (deflated 80%)\n",
            "  adding: test_patterns/test_input_53.npy (deflated 91%)\n",
            "  adding: test_patterns/test_target_47.npy (deflated 80%)\n",
            "  adding: test_patterns/test_target_75.npy (deflated 80%)\n",
            "  adding: test_patterns/test_target_19.npy (deflated 80%)\n",
            "  adding: test_patterns/test_target_23.npy (deflated 80%)\n",
            "  adding: test_patterns/test_target_17.npy (deflated 80%)\n",
            "  adding: test_patterns/test_target_51.npy (deflated 79%)\n",
            "  adding: test_patterns/test_target_53.npy (deflated 81%)\n",
            "  adding: test_patterns/test_input_31.npy (deflated 91%)\n",
            "  adding: test_patterns/test_input_15.npy (deflated 91%)\n",
            "  adding: test_patterns/test_target_69.npy (deflated 80%)\n",
            "  adding: test_patterns/test_target_34.npy (deflated 80%)\n",
            "  adding: test_patterns/test_input_47.npy (deflated 92%)\n",
            "  adding: test_patterns/test_target_29.npy (deflated 80%)\n",
            "  adding: test_patterns/test_target_71.npy (deflated 80%)\n",
            "  adding: test_patterns/test_input_2.npy (deflated 91%)\n",
            "  adding: test_patterns/test_input_3.npy (deflated 91%)\n",
            "  adding: test_patterns/test_input_68.npy (deflated 91%)\n",
            "  adding: test_patterns/test_target_46.npy (deflated 80%)\n",
            "  adding: test_patterns/test_target_30.npy (deflated 80%)\n",
            "  adding: test_patterns/test_input_17.npy (deflated 92%)\n",
            "  adding: test_patterns/test_target_55.npy (deflated 80%)\n",
            "  adding: test_patterns/test_input_64.npy (deflated 91%)\n",
            "  adding: test_patterns/test_input_24.npy (deflated 92%)\n",
            "  adding: test_patterns/test_target_12.npy (deflated 80%)\n",
            "  adding: test_patterns/test_target_5.npy (deflated 80%)\n",
            "  adding: test_patterns/test_target_15.npy (deflated 80%)\n",
            "  adding: test_patterns/test_target_67.npy (deflated 80%)\n",
            "  adding: test_patterns/test_input_51.npy (deflated 92%)\n",
            "  adding: test_patterns/test_target_7.npy (deflated 80%)\n",
            "  adding: test_patterns/test_target_3.npy (deflated 81%)\n",
            "  adding: test_patterns/test_input_14.npy (deflated 91%)\n",
            "  adding: test_patterns/test_target_59.npy (deflated 79%)\n",
            "  adding: test_patterns/test_input_34.npy (deflated 91%)\n",
            "  adding: test_patterns/test_input_48.npy (deflated 91%)\n",
            "  adding: test_patterns/test_target_66.npy (deflated 80%)\n",
            "  adding: test_patterns/test_target_26.npy (deflated 80%)\n",
            "  adding: test_patterns/test_target_32.npy (deflated 80%)\n",
            "  adding: test_patterns/test_target_60.npy (deflated 80%)\n",
            "  adding: test_patterns/test_input_23.npy (deflated 92%)\n",
            "  adding: test_patterns/test_target_13.npy (deflated 80%)\n",
            "  adding: test_patterns/test_target_9.npy (deflated 80%)\n",
            "  adding: test_patterns/test_target_21.npy (deflated 80%)\n",
            "  adding: test_patterns/test_target_42.npy (deflated 80%)\n",
            "  adding: test_patterns/test_target_70.npy (deflated 80%)\n",
            "  adding: test_patterns/test_target_37.npy (deflated 80%)\n",
            "  adding: test_patterns/test_input_29.npy (deflated 91%)\n",
            "  adding: test_patterns/test_target_31.npy (deflated 80%)\n",
            "  adding: test_patterns/test_target_28.npy (deflated 80%)\n",
            "  adding: test_patterns/test_input_20.npy (deflated 91%)\n",
            "  adding: test_patterns/test_target_11.npy (deflated 80%)\n",
            "  adding: test_patterns/test_input_5.npy (deflated 91%)\n",
            "  adding: test_patterns/test_target_77.npy (deflated 79%)\n",
            "  adding: test_patterns/test_target_49.npy (deflated 80%)\n",
            "  adding: test_patterns/test_input_10.npy (deflated 92%)\n",
            "  adding: test_patterns/test_target_72.npy (deflated 80%)\n",
            "  adding: test_patterns/test_input_74.npy (deflated 91%)\n",
            "  adding: test_patterns/test_input_16.npy (deflated 91%)\n",
            "  adding: test_patterns/test_target_63.npy (deflated 80%)\n",
            "  adding: test_patterns/test_input_45.npy (deflated 91%)\n",
            "  adding: test_patterns/test_input_61.npy (deflated 91%)\n",
            "  adding: test_patterns/test_input_73.npy (deflated 92%)\n",
            "  adding: test_patterns/test_target_38.npy (deflated 80%)\n",
            "  adding: test_patterns/test_input_27.npy (deflated 92%)\n",
            "  adding: test_patterns/test_input_18.npy (deflated 92%)\n",
            "  adding: test_patterns/test_input_67.npy (deflated 92%)\n",
            "  adding: test_patterns/test_input_54.npy (deflated 92%)\n",
            "  adding: test_patterns/test_input_19.npy (deflated 91%)\n",
            "  adding: test_patterns/test_input_13.npy (deflated 92%)\n",
            "  adding: test_patterns/test_target_54.npy (deflated 81%)\n"
          ]
        }
      ],
      "source": [
        "!zip -r test_patterns.zip test_patterns/"
      ]
    },
    {
      "cell_type": "markdown",
      "metadata": {
        "id": "s0dAgWUt2o6E"
      },
      "source": [
        "# Conclusion\n",
        "Now you know how to construct and train a fully-connected network on a static dataset. The spiking neurons can also be adapted to other layer types, including convolutions and skip connections. Armed with this knowledge, you should now be able to build many different types of SNNs. [In the next tutorial](https://snntorch.readthedocs.io/en/latest/tutorials/index.html), you will learn how to train a spiking convolutional network, and simplify the amount of code required using the `snn.backprop` module.\n",
        "\n",
        "Also, a special thanks to Bugra Kaytanli for providing valuable feedback on the tutorial.\n",
        "\n",
        "If you like this project, please consider starring ⭐ the repo on GitHub as it is the easiest and best way to support it.\n"
      ]
    },
    {
      "cell_type": "markdown",
      "metadata": {
        "id": "3LuBFFYCVdGI"
      },
      "source": [
        "# Additional Resources\n",
        "\n",
        "* [Check out the snnTorch GitHub project here.](https://github.com/jeshraghian/snntorch)"
      ]
    }
  ],
  "metadata": {
    "colab": {
      "provenance": [],
      "include_colab_link": true
    },
    "kernelspec": {
      "display_name": "Python 3",
      "name": "python3"
    },
    "language_info": {
      "codemirror_mode": {
        "name": "ipython",
        "version": 2
      },
      "file_extension": ".py",
      "mimetype": "text/x-python",
      "name": "python",
      "nbconvert_exporter": "python",
      "pygments_lexer": "ipython2",
      "version": "3.11.1"
    },
    "vscode": {
      "interpreter": {
        "hash": "aee8b7b246df8f9039afb4144a1f6fd8d2ca17a180786b69acc140d282b71a49"
      }
    }
  },
  "nbformat": 4,
  "nbformat_minor": 0
}